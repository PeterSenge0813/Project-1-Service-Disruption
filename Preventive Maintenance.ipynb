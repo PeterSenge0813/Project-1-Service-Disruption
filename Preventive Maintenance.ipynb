{
 "cells": [
  {
   "cell_type": "code",
   "execution_count": 1,
   "metadata": {
    "scrolled": true
   },
   "outputs": [
    {
     "name": "stdout",
     "output_type": "stream",
     "text": [
      "Requirement already up-to-date: scikit-learn in /Users/wenze/anaconda3/envs/py37/lib/python3.7/site-packages (0.21.0)\n",
      "Requirement already satisfied, skipping upgrade: scipy>=0.17.0 in /Users/wenze/anaconda3/envs/py37/lib/python3.7/site-packages (from scikit-learn) (1.2.1)\n",
      "Requirement already satisfied, skipping upgrade: joblib>=0.11 in /Users/wenze/anaconda3/envs/py37/lib/python3.7/site-packages (from scikit-learn) (0.13.2)\n",
      "Requirement already satisfied, skipping upgrade: numpy>=1.11.0 in /Users/wenze/anaconda3/envs/py37/lib/python3.7/site-packages (from scikit-learn) (1.16.3)\n",
      "Note: you may need to restart the kernel to use updated packages.\n"
     ]
    }
   ],
   "source": [
    "pip install -U scikit-learn"
   ]
  },
  {
   "cell_type": "code",
   "execution_count": 1,
   "metadata": {},
   "outputs": [],
   "source": [
    "import pandas as pd\n",
    "import numpy as np\n",
    "from sklearn import linear_model\n",
    "from sklearn.model_selection import train_test_split,cross_val_score, KFold\n",
    "from datetime import datetime as dt\n",
    "#from sklearn.metrics import classifiation_report\n",
    "import matplotlib.pyplot as plt\n",
    "from scipy import stats\n",
    "%matplotlib inline\n",
    "import seaborn as sns\n",
    "import matplotlib.pyplot as plt\n",
    "sns.set(style=\"ticks\")\n",
    "\n",
    "from sklearn.ensemble import GradientBoostingClassifier\n",
    "from sklearn import metrics\n",
    "from sklearn.model_selection import GridSearchCV\n",
    "\n",
    "import matplotlib.pylab as plt\n",
    "%matplotlib inline\n",
    "from matplotlib.pylab import rcParams\n",
    "rcParams['figure.figsize'] = 12, 4"
   ]
  },
  {
   "cell_type": "code",
   "execution_count": 2,
   "metadata": {},
   "outputs": [],
   "source": [
    "data=pd.read_csv(\"/Users/wenze/Wenze's Jupiter World/DevMaster/Predict failure Tower_May_4_2019/1533148882_failures.csv\")"
   ]
  },
  {
   "cell_type": "code",
   "execution_count": 3,
   "metadata": {},
   "outputs": [
    {
     "name": "stdout",
     "output_type": "stream",
     "text": [
      "<class 'pandas.core.frame.DataFrame'>\n",
      "RangeIndex: 124494 entries, 0 to 124493\n",
      "Data columns (total 12 columns):\n",
      "date          124494 non-null object\n",
      "device        124494 non-null object\n",
      "failure       124494 non-null int64\n",
      "attribute1    124494 non-null int64\n",
      "attribute2    124494 non-null int64\n",
      "attribute3    124494 non-null int64\n",
      "attribute4    124494 non-null int64\n",
      "attribute5    124494 non-null int64\n",
      "attribute6    124494 non-null int64\n",
      "attribute7    124494 non-null int64\n",
      "attribute8    124494 non-null int64\n",
      "attribute9    124494 non-null int64\n",
      "dtypes: int64(10), object(2)\n",
      "memory usage: 11.4+ MB\n"
     ]
    }
   ],
   "source": [
    "data.info()"
   ]
  },
  {
   "cell_type": "code",
   "execution_count": 4,
   "metadata": {},
   "outputs": [
    {
     "data": {
      "text/html": [
       "<div>\n",
       "<style scoped>\n",
       "    .dataframe tbody tr th:only-of-type {\n",
       "        vertical-align: middle;\n",
       "    }\n",
       "\n",
       "    .dataframe tbody tr th {\n",
       "        vertical-align: top;\n",
       "    }\n",
       "\n",
       "    .dataframe thead th {\n",
       "        text-align: right;\n",
       "    }\n",
       "</style>\n",
       "<table border=\"1\" class=\"dataframe\">\n",
       "  <thead>\n",
       "    <tr style=\"text-align: right;\">\n",
       "      <th></th>\n",
       "      <th>date</th>\n",
       "      <th>device</th>\n",
       "      <th>failure</th>\n",
       "      <th>attribute1</th>\n",
       "      <th>attribute2</th>\n",
       "      <th>attribute3</th>\n",
       "      <th>attribute4</th>\n",
       "      <th>attribute5</th>\n",
       "      <th>attribute6</th>\n",
       "      <th>attribute7</th>\n",
       "      <th>attribute8</th>\n",
       "      <th>attribute9</th>\n",
       "    </tr>\n",
       "  </thead>\n",
       "  <tbody>\n",
       "    <tr>\n",
       "      <th>0</th>\n",
       "      <td>2015-01-01</td>\n",
       "      <td>S1F01085</td>\n",
       "      <td>0</td>\n",
       "      <td>215630672</td>\n",
       "      <td>56</td>\n",
       "      <td>0</td>\n",
       "      <td>52</td>\n",
       "      <td>6</td>\n",
       "      <td>407438</td>\n",
       "      <td>0</td>\n",
       "      <td>0</td>\n",
       "      <td>7</td>\n",
       "    </tr>\n",
       "    <tr>\n",
       "      <th>1</th>\n",
       "      <td>2015-01-01</td>\n",
       "      <td>S1F0166B</td>\n",
       "      <td>0</td>\n",
       "      <td>61370680</td>\n",
       "      <td>0</td>\n",
       "      <td>3</td>\n",
       "      <td>0</td>\n",
       "      <td>6</td>\n",
       "      <td>403174</td>\n",
       "      <td>0</td>\n",
       "      <td>0</td>\n",
       "      <td>0</td>\n",
       "    </tr>\n",
       "    <tr>\n",
       "      <th>2</th>\n",
       "      <td>2015-01-01</td>\n",
       "      <td>S1F01E6Y</td>\n",
       "      <td>0</td>\n",
       "      <td>173295968</td>\n",
       "      <td>0</td>\n",
       "      <td>0</td>\n",
       "      <td>0</td>\n",
       "      <td>12</td>\n",
       "      <td>237394</td>\n",
       "      <td>0</td>\n",
       "      <td>0</td>\n",
       "      <td>0</td>\n",
       "    </tr>\n",
       "    <tr>\n",
       "      <th>3</th>\n",
       "      <td>2015-01-01</td>\n",
       "      <td>S1F01JE0</td>\n",
       "      <td>0</td>\n",
       "      <td>79694024</td>\n",
       "      <td>0</td>\n",
       "      <td>0</td>\n",
       "      <td>0</td>\n",
       "      <td>6</td>\n",
       "      <td>410186</td>\n",
       "      <td>0</td>\n",
       "      <td>0</td>\n",
       "      <td>0</td>\n",
       "    </tr>\n",
       "    <tr>\n",
       "      <th>4</th>\n",
       "      <td>2015-01-01</td>\n",
       "      <td>S1F01R2B</td>\n",
       "      <td>0</td>\n",
       "      <td>135970480</td>\n",
       "      <td>0</td>\n",
       "      <td>0</td>\n",
       "      <td>0</td>\n",
       "      <td>15</td>\n",
       "      <td>313173</td>\n",
       "      <td>0</td>\n",
       "      <td>0</td>\n",
       "      <td>3</td>\n",
       "    </tr>\n",
       "  </tbody>\n",
       "</table>\n",
       "</div>"
      ],
      "text/plain": [
       "         date    device  failure  attribute1  attribute2  attribute3  \\\n",
       "0  2015-01-01  S1F01085        0   215630672          56           0   \n",
       "1  2015-01-01  S1F0166B        0    61370680           0           3   \n",
       "2  2015-01-01  S1F01E6Y        0   173295968           0           0   \n",
       "3  2015-01-01  S1F01JE0        0    79694024           0           0   \n",
       "4  2015-01-01  S1F01R2B        0   135970480           0           0   \n",
       "\n",
       "   attribute4  attribute5  attribute6  attribute7  attribute8  attribute9  \n",
       "0          52           6      407438           0           0           7  \n",
       "1           0           6      403174           0           0           0  \n",
       "2           0          12      237394           0           0           0  \n",
       "3           0           6      410186           0           0           0  \n",
       "4           0          15      313173           0           0           3  "
      ]
     },
     "execution_count": 4,
     "metadata": {},
     "output_type": "execute_result"
    }
   ],
   "source": [
    "data.head()"
   ]
  },
  {
   "cell_type": "code",
   "execution_count": 4,
   "metadata": {
    "scrolled": true
   },
   "outputs": [
    {
     "name": "stdout",
     "output_type": "stream",
     "text": [
      "<class 'pandas.core.frame.DataFrame'>\n",
      "RangeIndex: 124494 entries, 0 to 124493\n",
      "Data columns (total 12 columns):\n",
      "date          124494 non-null object\n",
      "device        124494 non-null object\n",
      "failure       124494 non-null int64\n",
      "attribute1    124494 non-null int64\n",
      "attribute2    124494 non-null int64\n",
      "attribute3    124494 non-null int64\n",
      "attribute4    124494 non-null int64\n",
      "attribute5    124494 non-null int64\n",
      "attribute6    124494 non-null int64\n",
      "attribute7    124494 non-null int64\n",
      "attribute8    124494 non-null int64\n",
      "attribute9    124494 non-null int64\n",
      "dtypes: int64(10), object(2)\n",
      "memory usage: 11.4+ MB\n"
     ]
    }
   ],
   "source": [
    "data.info()\n",
    "#No missing value"
   ]
  },
  {
   "cell_type": "code",
   "execution_count": 5,
   "metadata": {},
   "outputs": [
    {
     "data": {
      "text/plain": [
       "(106, 1168)"
      ]
     },
     "execution_count": 5,
     "metadata": {},
     "output_type": "execute_result"
    }
   ],
   "source": [
    "#Check the percentage of the fail devices. \n",
    "device_fail=data['device'][data['failure']==1]\n",
    "(device_fail.nunique(),data.device.nunique())"
   ]
  },
  {
   "cell_type": "code",
   "execution_count": 6,
   "metadata": {
    "scrolled": true
   },
   "outputs": [
    {
     "data": {
      "text/plain": [
       "0    124388\n",
       "1       106\n",
       "Name: failure, dtype: int64"
      ]
     },
     "execution_count": 6,
     "metadata": {},
     "output_type": "execute_result"
    }
   ],
   "source": [
    "data.failure.value_counts()"
   ]
  },
  {
   "cell_type": "code",
   "execution_count": 31,
   "metadata": {},
   "outputs": [
    {
     "data": {
      "text/plain": [
       "0.000851446656063746"
      ]
     },
     "execution_count": 31,
     "metadata": {},
     "output_type": "execute_result"
    }
   ],
   "source": [
    "data.failure.value_counts()[1]/data.failure.shape[0]"
   ]
  },
  {
   "cell_type": "markdown",
   "metadata": {},
   "source": [
    "As we can see there are less than 1% of the records have failure. this means the data is imbalanced. We are facing the imbalanced classification problem."
   ]
  },
  {
   "cell_type": "code",
   "execution_count": 6,
   "metadata": {},
   "outputs": [
    {
     "data": {
      "text/plain": [
       "Index(['attribute1', 'attribute2', 'attribute3', 'attribute4', 'attribute5',\n",
       "       'attribute6', 'attribute7', 'attribute8', 'attribute9'],\n",
       "      dtype='object')"
      ]
     },
     "execution_count": 6,
     "metadata": {},
     "output_type": "execute_result"
    }
   ],
   "source": [
    "data.columns[3:]"
   ]
  },
  {
   "cell_type": "code",
   "execution_count": 45,
   "metadata": {},
   "outputs": [
    {
     "data": {
      "text/html": [
       "<div>\n",
       "<style scoped>\n",
       "    .dataframe tbody tr th:only-of-type {\n",
       "        vertical-align: middle;\n",
       "    }\n",
       "\n",
       "    .dataframe tbody tr th {\n",
       "        vertical-align: top;\n",
       "    }\n",
       "\n",
       "    .dataframe thead th {\n",
       "        text-align: right;\n",
       "    }\n",
       "</style>\n",
       "<table border=\"1\" class=\"dataframe\">\n",
       "  <thead>\n",
       "    <tr style=\"text-align: right;\">\n",
       "      <th></th>\n",
       "      <th>device</th>\n",
       "      <th>failure</th>\n",
       "    </tr>\n",
       "  </thead>\n",
       "  <tbody>\n",
       "    <tr>\n",
       "      <th>0</th>\n",
       "      <td>S1F01085</td>\n",
       "      <td>0.000000</td>\n",
       "    </tr>\n",
       "    <tr>\n",
       "      <th>1</th>\n",
       "      <td>S1F013BB</td>\n",
       "      <td>0.000000</td>\n",
       "    </tr>\n",
       "    <tr>\n",
       "      <th>2</th>\n",
       "      <td>S1F0166B</td>\n",
       "      <td>0.000000</td>\n",
       "    </tr>\n",
       "    <tr>\n",
       "      <th>3</th>\n",
       "      <td>S1F01E6Y</td>\n",
       "      <td>0.000000</td>\n",
       "    </tr>\n",
       "    <tr>\n",
       "      <th>4</th>\n",
       "      <td>S1F01JE0</td>\n",
       "      <td>0.000000</td>\n",
       "    </tr>\n",
       "    <tr>\n",
       "      <th>5</th>\n",
       "      <td>S1F01R2B</td>\n",
       "      <td>0.000000</td>\n",
       "    </tr>\n",
       "    <tr>\n",
       "      <th>6</th>\n",
       "      <td>S1F01TD5</td>\n",
       "      <td>0.000000</td>\n",
       "    </tr>\n",
       "    <tr>\n",
       "      <th>7</th>\n",
       "      <td>S1F01XDJ</td>\n",
       "      <td>0.000000</td>\n",
       "    </tr>\n",
       "    <tr>\n",
       "      <th>8</th>\n",
       "      <td>S1F023H2</td>\n",
       "      <td>0.052632</td>\n",
       "    </tr>\n",
       "    <tr>\n",
       "      <th>9</th>\n",
       "      <td>S1F02A0J</td>\n",
       "      <td>0.000000</td>\n",
       "    </tr>\n",
       "    <tr>\n",
       "      <th>10</th>\n",
       "      <td>S1F02DZ2</td>\n",
       "      <td>0.000000</td>\n",
       "    </tr>\n",
       "    <tr>\n",
       "      <th>11</th>\n",
       "      <td>S1F02EVN</td>\n",
       "      <td>0.000000</td>\n",
       "    </tr>\n",
       "    <tr>\n",
       "      <th>12</th>\n",
       "      <td>S1F02L38</td>\n",
       "      <td>0.000000</td>\n",
       "    </tr>\n",
       "    <tr>\n",
       "      <th>13</th>\n",
       "      <td>S1F02MGA</td>\n",
       "      <td>0.000000</td>\n",
       "    </tr>\n",
       "    <tr>\n",
       "      <th>14</th>\n",
       "      <td>S1F02P76</td>\n",
       "      <td>0.000000</td>\n",
       "    </tr>\n",
       "    <tr>\n",
       "      <th>15</th>\n",
       "      <td>S1F02VAX</td>\n",
       "      <td>0.000000</td>\n",
       "    </tr>\n",
       "    <tr>\n",
       "      <th>16</th>\n",
       "      <td>S1F02W1L</td>\n",
       "      <td>0.000000</td>\n",
       "    </tr>\n",
       "    <tr>\n",
       "      <th>17</th>\n",
       "      <td>S1F02WFT</td>\n",
       "      <td>0.000000</td>\n",
       "    </tr>\n",
       "    <tr>\n",
       "      <th>18</th>\n",
       "      <td>S1F02XLX</td>\n",
       "      <td>0.000000</td>\n",
       "    </tr>\n",
       "    <tr>\n",
       "      <th>19</th>\n",
       "      <td>S1F0318A</td>\n",
       "      <td>0.000000</td>\n",
       "    </tr>\n",
       "    <tr>\n",
       "      <th>20</th>\n",
       "      <td>S1F0322R</td>\n",
       "      <td>0.000000</td>\n",
       "    </tr>\n",
       "    <tr>\n",
       "      <th>21</th>\n",
       "      <td>S1F0330P</td>\n",
       "      <td>0.000000</td>\n",
       "    </tr>\n",
       "    <tr>\n",
       "      <th>22</th>\n",
       "      <td>S1F03499</td>\n",
       "      <td>0.000000</td>\n",
       "    </tr>\n",
       "    <tr>\n",
       "      <th>23</th>\n",
       "      <td>S1F035SJ</td>\n",
       "      <td>0.000000</td>\n",
       "    </tr>\n",
       "    <tr>\n",
       "      <th>24</th>\n",
       "      <td>S1F0377V</td>\n",
       "      <td>0.000000</td>\n",
       "    </tr>\n",
       "    <tr>\n",
       "      <th>25</th>\n",
       "      <td>S1F039FE</td>\n",
       "      <td>0.000000</td>\n",
       "    </tr>\n",
       "    <tr>\n",
       "      <th>26</th>\n",
       "      <td>S1F03RV3</td>\n",
       "      <td>0.000000</td>\n",
       "    </tr>\n",
       "    <tr>\n",
       "      <th>27</th>\n",
       "      <td>S1F03YZM</td>\n",
       "      <td>0.004651</td>\n",
       "    </tr>\n",
       "    <tr>\n",
       "      <th>28</th>\n",
       "      <td>S1F044ET</td>\n",
       "      <td>0.000000</td>\n",
       "    </tr>\n",
       "    <tr>\n",
       "      <th>29</th>\n",
       "      <td>S1F049RX</td>\n",
       "      <td>0.000000</td>\n",
       "    </tr>\n",
       "    <tr>\n",
       "      <th>...</th>\n",
       "      <td>...</td>\n",
       "      <td>...</td>\n",
       "    </tr>\n",
       "    <tr>\n",
       "      <th>1138</th>\n",
       "      <td>Z1F1A0LM</td>\n",
       "      <td>0.000000</td>\n",
       "    </tr>\n",
       "    <tr>\n",
       "      <th>1139</th>\n",
       "      <td>Z1F1A0RP</td>\n",
       "      <td>0.000000</td>\n",
       "    </tr>\n",
       "    <tr>\n",
       "      <th>1140</th>\n",
       "      <td>Z1F1A1HH</td>\n",
       "      <td>0.000000</td>\n",
       "    </tr>\n",
       "    <tr>\n",
       "      <th>1141</th>\n",
       "      <td>Z1F1A7MG</td>\n",
       "      <td>0.000000</td>\n",
       "    </tr>\n",
       "    <tr>\n",
       "      <th>1142</th>\n",
       "      <td>Z1F1A83K</td>\n",
       "      <td>0.000000</td>\n",
       "    </tr>\n",
       "    <tr>\n",
       "      <th>1143</th>\n",
       "      <td>Z1F1AD0M</td>\n",
       "      <td>0.000000</td>\n",
       "    </tr>\n",
       "    <tr>\n",
       "      <th>1144</th>\n",
       "      <td>Z1F1AF54</td>\n",
       "      <td>0.000000</td>\n",
       "    </tr>\n",
       "    <tr>\n",
       "      <th>1145</th>\n",
       "      <td>Z1F1AFF2</td>\n",
       "      <td>0.000000</td>\n",
       "    </tr>\n",
       "    <tr>\n",
       "      <th>1146</th>\n",
       "      <td>Z1F1AFT5</td>\n",
       "      <td>0.000000</td>\n",
       "    </tr>\n",
       "    <tr>\n",
       "      <th>1147</th>\n",
       "      <td>Z1F1AG5N</td>\n",
       "      <td>0.111111</td>\n",
       "    </tr>\n",
       "    <tr>\n",
       "      <th>1148</th>\n",
       "      <td>Z1F1AGLA</td>\n",
       "      <td>0.000000</td>\n",
       "    </tr>\n",
       "    <tr>\n",
       "      <th>1149</th>\n",
       "      <td>Z1F1AGN5</td>\n",
       "      <td>0.000000</td>\n",
       "    </tr>\n",
       "    <tr>\n",
       "      <th>1150</th>\n",
       "      <td>Z1F1AGW1</td>\n",
       "      <td>0.000000</td>\n",
       "    </tr>\n",
       "    <tr>\n",
       "      <th>1151</th>\n",
       "      <td>Z1F1B6H4</td>\n",
       "      <td>0.000000</td>\n",
       "    </tr>\n",
       "    <tr>\n",
       "      <th>1152</th>\n",
       "      <td>Z1F1B6NP</td>\n",
       "      <td>0.000000</td>\n",
       "    </tr>\n",
       "    <tr>\n",
       "      <th>1153</th>\n",
       "      <td>Z1F1B799</td>\n",
       "      <td>0.000000</td>\n",
       "    </tr>\n",
       "    <tr>\n",
       "      <th>1154</th>\n",
       "      <td>Z1F1CZ35</td>\n",
       "      <td>0.000000</td>\n",
       "    </tr>\n",
       "    <tr>\n",
       "      <th>1155</th>\n",
       "      <td>Z1F1FCH5</td>\n",
       "      <td>0.052632</td>\n",
       "    </tr>\n",
       "    <tr>\n",
       "      <th>1156</th>\n",
       "      <td>Z1F1FZ9J</td>\n",
       "      <td>0.000000</td>\n",
       "    </tr>\n",
       "    <tr>\n",
       "      <th>1157</th>\n",
       "      <td>Z1F1HEQR</td>\n",
       "      <td>0.000000</td>\n",
       "    </tr>\n",
       "    <tr>\n",
       "      <th>1158</th>\n",
       "      <td>Z1F1HSWK</td>\n",
       "      <td>0.000000</td>\n",
       "    </tr>\n",
       "    <tr>\n",
       "      <th>1159</th>\n",
       "      <td>Z1F1Q9BD</td>\n",
       "      <td>0.000000</td>\n",
       "    </tr>\n",
       "    <tr>\n",
       "      <th>1160</th>\n",
       "      <td>Z1F1R76A</td>\n",
       "      <td>0.000000</td>\n",
       "    </tr>\n",
       "    <tr>\n",
       "      <th>1161</th>\n",
       "      <td>Z1F1RE71</td>\n",
       "      <td>0.000000</td>\n",
       "    </tr>\n",
       "    <tr>\n",
       "      <th>1162</th>\n",
       "      <td>Z1F1RJFA</td>\n",
       "      <td>0.008065</td>\n",
       "    </tr>\n",
       "    <tr>\n",
       "      <th>1163</th>\n",
       "      <td>Z1F1VMZB</td>\n",
       "      <td>0.000000</td>\n",
       "    </tr>\n",
       "    <tr>\n",
       "      <th>1164</th>\n",
       "      <td>Z1F1VQFY</td>\n",
       "      <td>0.008000</td>\n",
       "    </tr>\n",
       "    <tr>\n",
       "      <th>1165</th>\n",
       "      <td>Z1F26YZB</td>\n",
       "      <td>0.000000</td>\n",
       "    </tr>\n",
       "    <tr>\n",
       "      <th>1166</th>\n",
       "      <td>Z1F282ZV</td>\n",
       "      <td>0.000000</td>\n",
       "    </tr>\n",
       "    <tr>\n",
       "      <th>1167</th>\n",
       "      <td>Z1F2PBHX</td>\n",
       "      <td>0.000000</td>\n",
       "    </tr>\n",
       "  </tbody>\n",
       "</table>\n",
       "<p>1168 rows × 2 columns</p>\n",
       "</div>"
      ],
      "text/plain": [
       "        device   failure\n",
       "0     S1F01085  0.000000\n",
       "1     S1F013BB  0.000000\n",
       "2     S1F0166B  0.000000\n",
       "3     S1F01E6Y  0.000000\n",
       "4     S1F01JE0  0.000000\n",
       "5     S1F01R2B  0.000000\n",
       "6     S1F01TD5  0.000000\n",
       "7     S1F01XDJ  0.000000\n",
       "8     S1F023H2  0.052632\n",
       "9     S1F02A0J  0.000000\n",
       "10    S1F02DZ2  0.000000\n",
       "11    S1F02EVN  0.000000\n",
       "12    S1F02L38  0.000000\n",
       "13    S1F02MGA  0.000000\n",
       "14    S1F02P76  0.000000\n",
       "15    S1F02VAX  0.000000\n",
       "16    S1F02W1L  0.000000\n",
       "17    S1F02WFT  0.000000\n",
       "18    S1F02XLX  0.000000\n",
       "19    S1F0318A  0.000000\n",
       "20    S1F0322R  0.000000\n",
       "21    S1F0330P  0.000000\n",
       "22    S1F03499  0.000000\n",
       "23    S1F035SJ  0.000000\n",
       "24    S1F0377V  0.000000\n",
       "25    S1F039FE  0.000000\n",
       "26    S1F03RV3  0.000000\n",
       "27    S1F03YZM  0.004651\n",
       "28    S1F044ET  0.000000\n",
       "29    S1F049RX  0.000000\n",
       "...        ...       ...\n",
       "1138  Z1F1A0LM  0.000000\n",
       "1139  Z1F1A0RP  0.000000\n",
       "1140  Z1F1A1HH  0.000000\n",
       "1141  Z1F1A7MG  0.000000\n",
       "1142  Z1F1A83K  0.000000\n",
       "1143  Z1F1AD0M  0.000000\n",
       "1144  Z1F1AF54  0.000000\n",
       "1145  Z1F1AFF2  0.000000\n",
       "1146  Z1F1AFT5  0.000000\n",
       "1147  Z1F1AG5N  0.111111\n",
       "1148  Z1F1AGLA  0.000000\n",
       "1149  Z1F1AGN5  0.000000\n",
       "1150  Z1F1AGW1  0.000000\n",
       "1151  Z1F1B6H4  0.000000\n",
       "1152  Z1F1B6NP  0.000000\n",
       "1153  Z1F1B799  0.000000\n",
       "1154  Z1F1CZ35  0.000000\n",
       "1155  Z1F1FCH5  0.052632\n",
       "1156  Z1F1FZ9J  0.000000\n",
       "1157  Z1F1HEQR  0.000000\n",
       "1158  Z1F1HSWK  0.000000\n",
       "1159  Z1F1Q9BD  0.000000\n",
       "1160  Z1F1R76A  0.000000\n",
       "1161  Z1F1RE71  0.000000\n",
       "1162  Z1F1RJFA  0.008065\n",
       "1163  Z1F1VMZB  0.000000\n",
       "1164  Z1F1VQFY  0.008000\n",
       "1165  Z1F26YZB  0.000000\n",
       "1166  Z1F282ZV  0.000000\n",
       "1167  Z1F2PBHX  0.000000\n",
       "\n",
       "[1168 rows x 2 columns]"
      ]
     },
     "execution_count": 45,
     "metadata": {},
     "output_type": "execute_result"
    }
   ],
   "source": [
    "df_failure=data.groupby('device').mean()\n",
    "df_failure.reset_index(inplace=True)\n",
    "df_failure.loc[:,['device','failure']]"
   ]
  },
  {
   "cell_type": "code",
   "execution_count": 8,
   "metadata": {
    "scrolled": true
   },
   "outputs": [
    {
     "data": {
      "text/plain": [
       "Index(['attribute1', 'attribute2', 'attribute3', 'attribute4', 'attribute5',\n",
       "       'attribute6', 'attribute7', 'attribute8', 'attribute9'],\n",
       "      dtype='object')"
      ]
     },
     "execution_count": 8,
     "metadata": {},
     "output_type": "execute_result"
    }
   ],
   "source": [
    "data.columns[3:]"
   ]
  },
  {
   "cell_type": "code",
   "execution_count": 9,
   "metadata": {},
   "outputs": [
    {
     "data": {
      "image/png": "[encoded data removed]",
      "text/plain": [
       "<Figure size 720x720 with 1 Axes>"
      ]
     },
     "metadata": {
      "needs_background": "light"
     },
     "output_type": "display_data"
    },
    {
     "data": {
      "image/png": "[encoded data removed]",
      "text/plain": [
       "<Figure size 432x288 with 1 Axes>"
      ]
     },
     "metadata": {
      "needs_background": "light"
     },
     "output_type": "display_data"
    },
    {
     "data": {
      "image/png": "[encoded data removed]",
      "text/plain": [
       "<Figure size 432x288 with 1 Axes>"
      ]
     },
     "metadata": {
      "needs_background": "light"
     },
     "output_type": "display_data"
    },
    {
     "data": {
      "image/png": "[encoded data removed]",
      "text/plain": [
       "<Figure size 432x288 with 1 Axes>"
      ]
     },
     "metadata": {
      "needs_background": "light"
     },
     "output_type": "display_data"
    },
    {
     "data": {
      "image/png": "[encoded data removed]",
      "text/plain": [
       "<Figure size 432x288 with 1 Axes>"
      ]
     },
     "metadata": {
      "needs_background": "light"
     },
     "output_type": "display_data"
    },
    {
     "data": {
      "image/png": "[encoded data removed]",
      "text/plain": [
       "<Figure size 432x288 with 1 Axes>"
      ]
     },
     "metadata": {
      "needs_background": "light"
     },
     "output_type": "display_data"
    },
    {
     "data": {
      "image/png": "[encoded data removed]",
      "text/plain": [
       "<Figure size 432x288 with 1 Axes>"
      ]
     },
     "metadata": {
      "needs_background": "light"
     },
     "output_type": "display_data"
    },
    {
     "data": {
      "image/png": "[encoded data removed]",
      "text/plain": [
       "<Figure size 432x288 with 1 Axes>"
      ]
     },
     "metadata": {
      "needs_background": "light"
     },
     "output_type": "display_data"
    },
    {
     "data": {
      "image/png": "[encoded data removed]",
      "text/plain": [
       "<Figure size 432x288 with 1 Axes>"
      ]
     },
     "metadata": {
      "needs_background": "light"
     },
     "output_type": "display_data"
    }
   ],
   "source": [
    "fig=plt.figure(figsize=(10,10))\n",
    "for i, col in enumerate(data.columns[3:]):\n",
    "    plt.figure(i)\n",
    "    sns.boxplot(x=data.failure,y=data[col]).set_title(col);"
   ]
  },
  {
   "cell_type": "markdown",
   "metadata": {},
   "source": [
    "convert date into the date type then to ordinal format"
   ]
  },
  {
   "cell_type": "code",
   "execution_count": 17,
   "metadata": {},
   "outputs": [],
   "source": [
    "data['date']=pd.to_datetime(data['date'])\n",
    "data['date']=data['date'].apply(lambda x: x.toordinal())"
   ]
  },
  {
   "cell_type": "code",
   "execution_count": null,
   "metadata": {},
   "outputs": [],
   "source": []
  },
  {
   "cell_type": "code",
   "execution_count": null,
   "metadata": {},
   "outputs": [],
   "source": []
  },
  {
   "cell_type": "code",
   "execution_count": null,
   "metadata": {},
   "outputs": [],
   "source": []
  },
  {
   "cell_type": "code",
   "execution_count": null,
   "metadata": {},
   "outputs": [],
   "source": []
  },
  {
   "cell_type": "code",
   "execution_count": null,
   "metadata": {},
   "outputs": [],
   "source": []
  },
  {
   "cell_type": "code",
   "execution_count": 18,
   "metadata": {},
   "outputs": [
    {
     "name": "stdout",
     "output_type": "stream",
     "text": [
      "\n",
      " Skew in numeric features: \n",
      "\n"
     ]
    },
    {
     "data": {
      "text/html": [
       "<div>\n",
       "<style scoped>\n",
       "    .dataframe tbody tr th:only-of-type {\n",
       "        vertical-align: middle;\n",
       "    }\n",
       "\n",
       "    .dataframe tbody tr th {\n",
       "        vertical-align: top;\n",
       "    }\n",
       "\n",
       "    .dataframe thead th {\n",
       "        text-align: right;\n",
       "    }\n",
       "</style>\n",
       "<table border=\"1\" class=\"dataframe\">\n",
       "  <thead>\n",
       "    <tr style=\"text-align: right;\">\n",
       "      <th></th>\n",
       "      <th>Skew</th>\n",
       "    </tr>\n",
       "  </thead>\n",
       "  <tbody>\n",
       "    <tr>\n",
       "      <th>attribute3</th>\n",
       "      <td>82.711281</td>\n",
       "    </tr>\n",
       "    <tr>\n",
       "      <th>attribute8</th>\n",
       "      <td>73.475571</td>\n",
       "    </tr>\n",
       "    <tr>\n",
       "      <th>attribute7</th>\n",
       "      <td>73.475571</td>\n",
       "    </tr>\n",
       "    <tr>\n",
       "      <th>attribute9</th>\n",
       "      <td>49.898677</td>\n",
       "    </tr>\n",
       "    <tr>\n",
       "      <th>attribute4</th>\n",
       "      <td>41.502111</td>\n",
       "    </tr>\n",
       "    <tr>\n",
       "      <th>attribute2</th>\n",
       "      <td>23.857636</td>\n",
       "    </tr>\n",
       "    <tr>\n",
       "      <th>attribute5</th>\n",
       "      <td>3.483638</td>\n",
       "    </tr>\n",
       "    <tr>\n",
       "      <th>attribute1</th>\n",
       "      <td>-0.011115</td>\n",
       "    </tr>\n",
       "    <tr>\n",
       "      <th>attribute6</th>\n",
       "      <td>-0.375286</td>\n",
       "    </tr>\n",
       "  </tbody>\n",
       "</table>\n",
       "</div>"
      ],
      "text/plain": [
       "                 Skew\n",
       "attribute3  82.711281\n",
       "attribute8  73.475571\n",
       "attribute7  73.475571\n",
       "attribute9  49.898677\n",
       "attribute4  41.502111\n",
       "attribute2  23.857636\n",
       "attribute5   3.483638\n",
       "attribute1  -0.011115\n",
       "attribute6  -0.375286"
      ]
     },
     "execution_count": 18,
     "metadata": {},
     "output_type": "execute_result"
    }
   ],
   "source": [
    "from scipy import stats\n",
    "from scipy.stats import norm, skew #for some statistics\n",
    "numeric_feats=['attribute1', 'attribute2', 'attribute3',\n",
    "       'attribute4', 'attribute5', 'attribute6', 'attribute7', 'attribute8',\n",
    "       'attribute9']\n",
    "#Check the skews of the numeric features\n",
    "skewed_feats=data[numeric_feats].apply(lambda x: skew(x)).sort_values(ascending=False)\n",
    "print(\"\\n Skew in numeric features: \\n\")\n",
    "skewness=pd.DataFrame({'Skew': skewed_feats})\n",
    "skewness"
   ]
  },
  {
   "cell_type": "code",
   "execution_count": 19,
   "metadata": {},
   "outputs": [],
   "source": [
    "cleaning_data=data.copy()"
   ]
  },
  {
   "cell_type": "code",
   "execution_count": 20,
   "metadata": {
    "scrolled": true
   },
   "outputs": [
    {
     "data": {
      "text/html": [
       "<div>\n",
       "<style scoped>\n",
       "    .dataframe tbody tr th:only-of-type {\n",
       "        vertical-align: middle;\n",
       "    }\n",
       "\n",
       "    .dataframe tbody tr th {\n",
       "        vertical-align: top;\n",
       "    }\n",
       "\n",
       "    .dataframe thead th {\n",
       "        text-align: right;\n",
       "    }\n",
       "</style>\n",
       "<table border=\"1\" class=\"dataframe\">\n",
       "  <thead>\n",
       "    <tr style=\"text-align: right;\">\n",
       "      <th></th>\n",
       "      <th>date</th>\n",
       "      <th>failure</th>\n",
       "      <th>attribute1</th>\n",
       "      <th>attribute2</th>\n",
       "      <th>attribute3</th>\n",
       "      <th>attribute4</th>\n",
       "      <th>attribute5</th>\n",
       "      <th>attribute6</th>\n",
       "      <th>attribute7</th>\n",
       "      <th>attribute8</th>\n",
       "      <th>attribute9</th>\n",
       "    </tr>\n",
       "  </thead>\n",
       "  <tbody>\n",
       "    <tr>\n",
       "      <th>date</th>\n",
       "      <td>1.000000</td>\n",
       "      <td>0.000627</td>\n",
       "      <td>-0.005603</td>\n",
       "      <td>-0.007317</td>\n",
       "      <td>-0.001580</td>\n",
       "      <td>-0.006484</td>\n",
       "      <td>-0.013455</td>\n",
       "      <td>0.139643</td>\n",
       "      <td>0.021653</td>\n",
       "      <td>0.021653</td>\n",
       "      <td>-0.026538</td>\n",
       "    </tr>\n",
       "    <tr>\n",
       "      <th>failure</th>\n",
       "      <td>0.000627</td>\n",
       "      <td>1.000000</td>\n",
       "      <td>0.001984</td>\n",
       "      <td>0.052902</td>\n",
       "      <td>-0.000948</td>\n",
       "      <td>0.067398</td>\n",
       "      <td>0.002270</td>\n",
       "      <td>-0.000550</td>\n",
       "      <td>0.119055</td>\n",
       "      <td>0.119055</td>\n",
       "      <td>0.001622</td>\n",
       "    </tr>\n",
       "    <tr>\n",
       "      <th>attribute1</th>\n",
       "      <td>-0.005603</td>\n",
       "      <td>0.001984</td>\n",
       "      <td>1.000000</td>\n",
       "      <td>-0.004248</td>\n",
       "      <td>0.003702</td>\n",
       "      <td>0.001837</td>\n",
       "      <td>-0.003370</td>\n",
       "      <td>-0.001516</td>\n",
       "      <td>0.000151</td>\n",
       "      <td>0.000151</td>\n",
       "      <td>0.001122</td>\n",
       "    </tr>\n",
       "    <tr>\n",
       "      <th>attribute2</th>\n",
       "      <td>-0.007317</td>\n",
       "      <td>0.052902</td>\n",
       "      <td>-0.004248</td>\n",
       "      <td>1.000000</td>\n",
       "      <td>-0.002617</td>\n",
       "      <td>0.146593</td>\n",
       "      <td>-0.013999</td>\n",
       "      <td>-0.026350</td>\n",
       "      <td>0.141367</td>\n",
       "      <td>0.141367</td>\n",
       "      <td>-0.002736</td>\n",
       "    </tr>\n",
       "    <tr>\n",
       "      <th>attribute3</th>\n",
       "      <td>-0.001580</td>\n",
       "      <td>-0.000948</td>\n",
       "      <td>0.003702</td>\n",
       "      <td>-0.002617</td>\n",
       "      <td>1.000000</td>\n",
       "      <td>0.097452</td>\n",
       "      <td>-0.006696</td>\n",
       "      <td>0.009027</td>\n",
       "      <td>-0.001884</td>\n",
       "      <td>-0.001884</td>\n",
       "      <td>0.532366</td>\n",
       "    </tr>\n",
       "    <tr>\n",
       "      <th>attribute4</th>\n",
       "      <td>-0.006484</td>\n",
       "      <td>0.067398</td>\n",
       "      <td>0.001837</td>\n",
       "      <td>0.146593</td>\n",
       "      <td>0.097452</td>\n",
       "      <td>1.000000</td>\n",
       "      <td>-0.009773</td>\n",
       "      <td>0.024870</td>\n",
       "      <td>0.045631</td>\n",
       "      <td>0.045631</td>\n",
       "      <td>0.036069</td>\n",
       "    </tr>\n",
       "    <tr>\n",
       "      <th>attribute5</th>\n",
       "      <td>-0.013455</td>\n",
       "      <td>0.002270</td>\n",
       "      <td>-0.003370</td>\n",
       "      <td>-0.013999</td>\n",
       "      <td>-0.006696</td>\n",
       "      <td>-0.009773</td>\n",
       "      <td>1.000000</td>\n",
       "      <td>-0.017051</td>\n",
       "      <td>-0.009384</td>\n",
       "      <td>-0.009384</td>\n",
       "      <td>0.005949</td>\n",
       "    </tr>\n",
       "    <tr>\n",
       "      <th>attribute6</th>\n",
       "      <td>0.139643</td>\n",
       "      <td>-0.000550</td>\n",
       "      <td>-0.001516</td>\n",
       "      <td>-0.026350</td>\n",
       "      <td>0.009027</td>\n",
       "      <td>0.024870</td>\n",
       "      <td>-0.017051</td>\n",
       "      <td>1.000000</td>\n",
       "      <td>-0.012207</td>\n",
       "      <td>-0.012207</td>\n",
       "      <td>0.021152</td>\n",
       "    </tr>\n",
       "    <tr>\n",
       "      <th>attribute7</th>\n",
       "      <td>0.021653</td>\n",
       "      <td>0.119055</td>\n",
       "      <td>0.000151</td>\n",
       "      <td>0.141367</td>\n",
       "      <td>-0.001884</td>\n",
       "      <td>0.045631</td>\n",
       "      <td>-0.009384</td>\n",
       "      <td>-0.012207</td>\n",
       "      <td>1.000000</td>\n",
       "      <td>1.000000</td>\n",
       "      <td>0.006861</td>\n",
       "    </tr>\n",
       "    <tr>\n",
       "      <th>attribute8</th>\n",
       "      <td>0.021653</td>\n",
       "      <td>0.119055</td>\n",
       "      <td>0.000151</td>\n",
       "      <td>0.141367</td>\n",
       "      <td>-0.001884</td>\n",
       "      <td>0.045631</td>\n",
       "      <td>-0.009384</td>\n",
       "      <td>-0.012207</td>\n",
       "      <td>1.000000</td>\n",
       "      <td>1.000000</td>\n",
       "      <td>0.006861</td>\n",
       "    </tr>\n",
       "    <tr>\n",
       "      <th>attribute9</th>\n",
       "      <td>-0.026538</td>\n",
       "      <td>0.001622</td>\n",
       "      <td>0.001122</td>\n",
       "      <td>-0.002736</td>\n",
       "      <td>0.532366</td>\n",
       "      <td>0.036069</td>\n",
       "      <td>0.005949</td>\n",
       "      <td>0.021152</td>\n",
       "      <td>0.006861</td>\n",
       "      <td>0.006861</td>\n",
       "      <td>1.000000</td>\n",
       "    </tr>\n",
       "  </tbody>\n",
       "</table>\n",
       "</div>"
      ],
      "text/plain": [
       "                date   failure  attribute1  attribute2  attribute3  \\\n",
       "date        1.000000  0.000627   -0.005603   -0.007317   -0.001580   \n",
       "failure     0.000627  1.000000    0.001984    0.052902   -0.000948   \n",
       "attribute1 -0.005603  0.001984    1.000000   -0.004248    0.003702   \n",
       "attribute2 -0.007317  0.052902   -0.004248    1.000000   -0.002617   \n",
       "attribute3 -0.001580 -0.000948    0.003702   -0.002617    1.000000   \n",
       "attribute4 -0.006484  0.067398    0.001837    0.146593    0.097452   \n",
       "attribute5 -0.013455  0.002270   -0.003370   -0.013999   -0.006696   \n",
       "attribute6  0.139643 -0.000550   -0.001516   -0.026350    0.009027   \n",
       "attribute7  0.021653  0.119055    0.000151    0.141367   -0.001884   \n",
       "attribute8  0.021653  0.119055    0.000151    0.141367   -0.001884   \n",
       "attribute9 -0.026538  0.001622    0.001122   -0.002736    0.532366   \n",
       "\n",
       "            attribute4  attribute5  attribute6  attribute7  attribute8  \\\n",
       "date         -0.006484   -0.013455    0.139643    0.021653    0.021653   \n",
       "failure       0.067398    0.002270   -0.000550    0.119055    0.119055   \n",
       "attribute1    0.001837   -0.003370   -0.001516    0.000151    0.000151   \n",
       "attribute2    0.146593   -0.013999   -0.026350    0.141367    0.141367   \n",
       "attribute3    0.097452   -0.006696    0.009027   -0.001884   -0.001884   \n",
       "attribute4    1.000000   -0.009773    0.024870    0.045631    0.045631   \n",
       "attribute5   -0.009773    1.000000   -0.017051   -0.009384   -0.009384   \n",
       "attribute6    0.024870   -0.017051    1.000000   -0.012207   -0.012207   \n",
       "attribute7    0.045631   -0.009384   -0.012207    1.000000    1.000000   \n",
       "attribute8    0.045631   -0.009384   -0.012207    1.000000    1.000000   \n",
       "attribute9    0.036069    0.005949    0.021152    0.006861    0.006861   \n",
       "\n",
       "            attribute9  \n",
       "date         -0.026538  \n",
       "failure       0.001622  \n",
       "attribute1    0.001122  \n",
       "attribute2   -0.002736  \n",
       "attribute3    0.532366  \n",
       "attribute4    0.036069  \n",
       "attribute5    0.005949  \n",
       "attribute6    0.021152  \n",
       "attribute7    0.006861  \n",
       "attribute8    0.006861  \n",
       "attribute9    1.000000  "
      ]
     },
     "execution_count": 20,
     "metadata": {},
     "output_type": "execute_result"
    }
   ],
   "source": [
    "cleaning_data.corr()"
   ]
  },
  {
   "cell_type": "code",
   "execution_count": 21,
   "metadata": {},
   "outputs": [
    {
     "name": "stdout",
     "output_type": "stream",
     "text": [
      "There are 7 skewed numerical features to Box Cox transform\n",
      "Index(['attribute3', 'attribute8', 'attribute7', 'attribute9', 'attribute4',\n",
      "       'attribute2', 'attribute5'],\n",
      "      dtype='object')\n"
     ]
    }
   ],
   "source": [
    "skewness=skewness[abs(skewness)>0.75].dropna()\n",
    "print('There are {} skewed numerical features to Box Cox transform'.format(skewness.shape[0]))\n",
    "from scipy import stats\n",
    "skewed_features=skewness.index\n",
    "print(skewed_features)\n",
    "#cleaning_data=pd.DataFrame(columns=skewed_features)\n",
    "for feat in skewed_features:\n",
    "    posdata = data[data[feat] > 0]\n",
    "    bcdata,lam=stats.boxcox(posdata[feat])\n",
    "\n",
    "    cleaning_data.loc[cleaning_data[feat]>0,feat]=bcdata\n",
    "    cleaning_data.loc[cleaning_data[feat]==0,feat]=-1/lam"
   ]
  },
  {
   "cell_type": "code",
   "execution_count": 22,
   "metadata": {
    "scrolled": true
   },
   "outputs": [
    {
     "data": {
      "text/html": [
       "<div>\n",
       "<style scoped>\n",
       "    .dataframe tbody tr th:only-of-type {\n",
       "        vertical-align: middle;\n",
       "    }\n",
       "\n",
       "    .dataframe tbody tr th {\n",
       "        vertical-align: top;\n",
       "    }\n",
       "\n",
       "    .dataframe thead th {\n",
       "        text-align: right;\n",
       "    }\n",
       "</style>\n",
       "<table border=\"1\" class=\"dataframe\">\n",
       "  <thead>\n",
       "    <tr style=\"text-align: right;\">\n",
       "      <th></th>\n",
       "      <th>date</th>\n",
       "      <th>device</th>\n",
       "      <th>failure</th>\n",
       "      <th>attribute1</th>\n",
       "      <th>attribute2</th>\n",
       "      <th>attribute3</th>\n",
       "      <th>attribute4</th>\n",
       "      <th>attribute5</th>\n",
       "      <th>attribute6</th>\n",
       "      <th>attribute7</th>\n",
       "      <th>attribute8</th>\n",
       "      <th>attribute9</th>\n",
       "    </tr>\n",
       "  </thead>\n",
       "  <tbody>\n",
       "    <tr>\n",
       "      <th>0</th>\n",
       "      <td>735599</td>\n",
       "      <td>S1F01085</td>\n",
       "      <td>0</td>\n",
       "      <td>215630672</td>\n",
       "      <td>4.174145</td>\n",
       "      <td>4.401384</td>\n",
       "      <td>2.607180</td>\n",
       "      <td>1.192729</td>\n",
       "      <td>407438</td>\n",
       "      <td>0.890743</td>\n",
       "      <td>0.890743</td>\n",
       "      <td>1.362563</td>\n",
       "    </tr>\n",
       "    <tr>\n",
       "      <th>1</th>\n",
       "      <td>735599</td>\n",
       "      <td>S1F0166B</td>\n",
       "      <td>0</td>\n",
       "      <td>61370680</td>\n",
       "      <td>-55.783219</td>\n",
       "      <td>0.972232</td>\n",
       "      <td>4.398459</td>\n",
       "      <td>1.192729</td>\n",
       "      <td>403174</td>\n",
       "      <td>0.890743</td>\n",
       "      <td>0.890743</td>\n",
       "      <td>2.557989</td>\n",
       "    </tr>\n",
       "    <tr>\n",
       "      <th>2</th>\n",
       "      <td>735599</td>\n",
       "      <td>S1F01E6Y</td>\n",
       "      <td>0</td>\n",
       "      <td>173295968</td>\n",
       "      <td>-55.783219</td>\n",
       "      <td>4.401384</td>\n",
       "      <td>4.398459</td>\n",
       "      <td>1.437073</td>\n",
       "      <td>237394</td>\n",
       "      <td>0.890743</td>\n",
       "      <td>0.890743</td>\n",
       "      <td>2.557989</td>\n",
       "    </tr>\n",
       "    <tr>\n",
       "      <th>3</th>\n",
       "      <td>735599</td>\n",
       "      <td>S1F01JE0</td>\n",
       "      <td>0</td>\n",
       "      <td>79694024</td>\n",
       "      <td>-55.783219</td>\n",
       "      <td>4.401384</td>\n",
       "      <td>4.398459</td>\n",
       "      <td>1.192729</td>\n",
       "      <td>410186</td>\n",
       "      <td>0.890743</td>\n",
       "      <td>0.890743</td>\n",
       "      <td>2.557989</td>\n",
       "    </tr>\n",
       "    <tr>\n",
       "      <th>4</th>\n",
       "      <td>735599</td>\n",
       "      <td>S1F01R2B</td>\n",
       "      <td>0</td>\n",
       "      <td>135970480</td>\n",
       "      <td>-55.783219</td>\n",
       "      <td>4.401384</td>\n",
       "      <td>4.398459</td>\n",
       "      <td>1.499651</td>\n",
       "      <td>313173</td>\n",
       "      <td>0.890743</td>\n",
       "      <td>0.890743</td>\n",
       "      <td>0.893133</td>\n",
       "    </tr>\n",
       "  </tbody>\n",
       "</table>\n",
       "</div>"
      ],
      "text/plain": [
       "     date    device  failure  attribute1  attribute2  attribute3  attribute4  \\\n",
       "0  735599  S1F01085        0   215630672    4.174145    4.401384    2.607180   \n",
       "1  735599  S1F0166B        0    61370680  -55.783219    0.972232    4.398459   \n",
       "2  735599  S1F01E6Y        0   173295968  -55.783219    4.401384    4.398459   \n",
       "3  735599  S1F01JE0        0    79694024  -55.783219    4.401384    4.398459   \n",
       "4  735599  S1F01R2B        0   135970480  -55.783219    4.401384    4.398459   \n",
       "\n",
       "   attribute5  attribute6  attribute7  attribute8  attribute9  \n",
       "0    1.192729      407438    0.890743    0.890743    1.362563  \n",
       "1    1.192729      403174    0.890743    0.890743    2.557989  \n",
       "2    1.437073      237394    0.890743    0.890743    2.557989  \n",
       "3    1.192729      410186    0.890743    0.890743    2.557989  \n",
       "4    1.499651      313173    0.890743    0.890743    0.893133  "
      ]
     },
     "execution_count": 22,
     "metadata": {},
     "output_type": "execute_result"
    }
   ],
   "source": [
    "cleaning_data.head()"
   ]
  },
  {
   "cell_type": "code",
   "execution_count": 23,
   "metadata": {},
   "outputs": [],
   "source": [
    "train_y_matrix=cleaning_data['failure']\n",
    "train_x_matrix=cleaning_data.drop(['device','failure'],axis=1)"
   ]
  },
  {
   "cell_type": "code",
   "execution_count": 24,
   "metadata": {},
   "outputs": [
    {
     "data": {
      "text/html": [
       "<div>\n",
       "<style scoped>\n",
       "    .dataframe tbody tr th:only-of-type {\n",
       "        vertical-align: middle;\n",
       "    }\n",
       "\n",
       "    .dataframe tbody tr th {\n",
       "        vertical-align: top;\n",
       "    }\n",
       "\n",
       "    .dataframe thead th {\n",
       "        text-align: right;\n",
       "    }\n",
       "</style>\n",
       "<table border=\"1\" class=\"dataframe\">\n",
       "  <thead>\n",
       "    <tr style=\"text-align: right;\">\n",
       "      <th></th>\n",
       "      <th>date</th>\n",
       "      <th>attribute1</th>\n",
       "      <th>attribute2</th>\n",
       "      <th>attribute3</th>\n",
       "      <th>attribute4</th>\n",
       "      <th>attribute5</th>\n",
       "      <th>attribute6</th>\n",
       "      <th>attribute7</th>\n",
       "      <th>attribute8</th>\n",
       "      <th>attribute9</th>\n",
       "    </tr>\n",
       "  </thead>\n",
       "  <tbody>\n",
       "    <tr>\n",
       "      <th>0</th>\n",
       "      <td>735599</td>\n",
       "      <td>215630672</td>\n",
       "      <td>4.174145</td>\n",
       "      <td>4.401384</td>\n",
       "      <td>2.607180</td>\n",
       "      <td>1.192729</td>\n",
       "      <td>407438</td>\n",
       "      <td>0.890743</td>\n",
       "      <td>0.890743</td>\n",
       "      <td>1.362563</td>\n",
       "    </tr>\n",
       "    <tr>\n",
       "      <th>1</th>\n",
       "      <td>735599</td>\n",
       "      <td>61370680</td>\n",
       "      <td>-55.783219</td>\n",
       "      <td>0.972232</td>\n",
       "      <td>4.398459</td>\n",
       "      <td>1.192729</td>\n",
       "      <td>403174</td>\n",
       "      <td>0.890743</td>\n",
       "      <td>0.890743</td>\n",
       "      <td>2.557989</td>\n",
       "    </tr>\n",
       "    <tr>\n",
       "      <th>2</th>\n",
       "      <td>735599</td>\n",
       "      <td>173295968</td>\n",
       "      <td>-55.783219</td>\n",
       "      <td>4.401384</td>\n",
       "      <td>4.398459</td>\n",
       "      <td>1.437073</td>\n",
       "      <td>237394</td>\n",
       "      <td>0.890743</td>\n",
       "      <td>0.890743</td>\n",
       "      <td>2.557989</td>\n",
       "    </tr>\n",
       "    <tr>\n",
       "      <th>3</th>\n",
       "      <td>735599</td>\n",
       "      <td>79694024</td>\n",
       "      <td>-55.783219</td>\n",
       "      <td>4.401384</td>\n",
       "      <td>4.398459</td>\n",
       "      <td>1.192729</td>\n",
       "      <td>410186</td>\n",
       "      <td>0.890743</td>\n",
       "      <td>0.890743</td>\n",
       "      <td>2.557989</td>\n",
       "    </tr>\n",
       "    <tr>\n",
       "      <th>4</th>\n",
       "      <td>735599</td>\n",
       "      <td>135970480</td>\n",
       "      <td>-55.783219</td>\n",
       "      <td>4.401384</td>\n",
       "      <td>4.398459</td>\n",
       "      <td>1.499651</td>\n",
       "      <td>313173</td>\n",
       "      <td>0.890743</td>\n",
       "      <td>0.890743</td>\n",
       "      <td>0.893133</td>\n",
       "    </tr>\n",
       "  </tbody>\n",
       "</table>\n",
       "</div>"
      ],
      "text/plain": [
       "     date  attribute1  attribute2  attribute3  attribute4  attribute5  \\\n",
       "0  735599   215630672    4.174145    4.401384    2.607180    1.192729   \n",
       "1  735599    61370680  -55.783219    0.972232    4.398459    1.192729   \n",
       "2  735599   173295968  -55.783219    4.401384    4.398459    1.437073   \n",
       "3  735599    79694024  -55.783219    4.401384    4.398459    1.192729   \n",
       "4  735599   135970480  -55.783219    4.401384    4.398459    1.499651   \n",
       "\n",
       "   attribute6  attribute7  attribute8  attribute9  \n",
       "0      407438    0.890743    0.890743    1.362563  \n",
       "1      403174    0.890743    0.890743    2.557989  \n",
       "2      237394    0.890743    0.890743    2.557989  \n",
       "3      410186    0.890743    0.890743    2.557989  \n",
       "4      313173    0.890743    0.890743    0.893133  "
      ]
     },
     "execution_count": 24,
     "metadata": {},
     "output_type": "execute_result"
    }
   ],
   "source": [
    "train_x_matrix.head()"
   ]
  },
  {
   "cell_type": "code",
   "execution_count": 25,
   "metadata": {},
   "outputs": [],
   "source": [
    "from sklearn.metrics import accuracy_score, precision_score, recall_score, f1_score\n",
    "from sklearn.neighbors import KNeighborsClassifier\n",
    "k=KNeighborsClassifier()\n",
    "from sklearn.naive_bayes import GaussianNB\n",
    "from sklearn.naive_bayes import BernoulliNB\n",
    "g=GaussianNB()\n",
    "b=BernoulliNB()\n",
    "from sklearn.linear_model import LogisticRegression\n",
    "log=LogisticRegression()\n",
    "from sklearn.tree import DecisionTreeClassifier\n",
    "d=DecisionTreeClassifier()\n",
    "from sklearn.ensemble import RandomForestClassifier\n",
    "r=RandomForestClassifier() #Random Forest\n",
    "from sklearn.ensemble import GradientBoostingClassifier ## Gradient Boosting Classifier\n",
    "gbc=GradientBoostingClassifier(n_estimators=10)\n",
    "from sklearn.ensemble import RandomForestClassifier\n",
    "clf=RandomForestClassifier(n_estimators=20)"
   ]
  },
  {
   "cell_type": "code",
   "execution_count": 26,
   "metadata": {},
   "outputs": [
    {
     "data": {
      "text/plain": [
       "GradientBoostingClassifier(criterion='friedman_mse', init=None,\n",
       "                           learning_rate=0.1, loss='deviance', max_depth=3,\n",
       "                           max_features=None, max_leaf_nodes=None,\n",
       "                           min_impurity_decrease=0.0, min_impurity_split=None,\n",
       "                           min_samples_leaf=1, min_samples_split=2,\n",
       "                           min_weight_fraction_leaf=0.0, n_estimators=10,\n",
       "                           n_iter_no_change=None, presort='auto',\n",
       "                           random_state=None, subsample=1.0, tol=0.0001,\n",
       "                           validation_fraction=0.1, verbose=0,\n",
       "                           warm_start=False)"
      ]
     },
     "execution_count": 26,
     "metadata": {},
     "output_type": "execute_result"
    }
   ],
   "source": [
    "gbc.fit(train_x_matrix,train_y_matrix)"
   ]
  },
  {
   "cell_type": "code",
   "execution_count": 27,
   "metadata": {},
   "outputs": [
    {
     "data": {
      "text/plain": [
       "array([0.99959014, 0.17741935])"
      ]
     },
     "execution_count": 27,
     "metadata": {},
     "output_type": "execute_result"
    }
   ],
   "source": [
    "f1_score(gbc.predict(train_x_matrix),train_y_matrix,average=None)"
   ]
  },
  {
   "cell_type": "code",
   "execution_count": 28,
   "metadata": {},
   "outputs": [],
   "source": [
    "algorithms=[g,b,k,log,d,r,clf]\n",
    "names=['GaussianNB','BernoulliNB','K Nearest','Logistic','Single Tree',\n",
    "      'Random Forest','Gradient Boost']\n",
    "metrics=pd.DataFrame(columns=['Accuracy','Precision','Recall','F1'],index=names)\n",
    "def tDMassess(X, y,x_,y_, algorithms, names):\n",
    "    # fit the data\n",
    "    for i in range(len(algorithms)):\n",
    "        algorithms[i] = algorithms[i].fit(X,y)\n",
    "    # print metrics\n",
    "    accuracy = []\n",
    "    precision = []\n",
    "    recall = []\n",
    "    f1 = []\n",
    "    \n",
    "    \n",
    "    for i in range(len(algorithms)):\n",
    "        \n",
    "      \n",
    "        accuracy.append(accuracy_score(y_, algorithms[i].predict(x_)))\n",
    "        precision.append(precision_score(y_, algorithms[i].predict(x_),average='weighted'))\n",
    "        recall.append(recall_score(y_, algorithms[i].predict(x_),average='weighted', labels=np.unique(algorithms[i].predict(x_))))\n",
    "        f1.append(f1_score(y_, algorithms[i].predict(x_),average='weighted', labels=np.unique(algorithms[i].predict(x_))))\n",
    "        metrics = pd.DataFrame(columns = ['Accuracy', 'Precision', 'Recall', 'F1'], index = names)\n",
    "    metrics=pd.DataFrame(columns=['Accuracy','Precision','Recall','F1'],index=names)\n",
    "    metrics['Accuracy'] = accuracy\n",
    "    metrics['Precision'] = precision\n",
    "    metrics['Recall'] = recall\n",
    "    metrics['F1'] = f1\n",
    "    return metrics.sort_values('F1', ascending=False)"
   ]
  },
  {
   "cell_type": "code",
   "execution_count": 29,
   "metadata": {},
   "outputs": [],
   "source": [
    "x_train,x_test,y_train,y_test=train_test_split(train_x_matrix,train_y_matrix,test_size=0.2,random_state=13)"
   ]
  },
  {
   "cell_type": "code",
   "execution_count": 30,
   "metadata": {},
   "outputs": [
    {
     "name": "stderr",
     "output_type": "stream",
     "text": [
      "/Users/wenze/anaconda3/envs/py37/lib/python3.7/site-packages/sklearn/linear_model/logistic.py:432: FutureWarning: Default solver will be changed to 'lbfgs' in 0.22. Specify a solver to silence this warning.\n",
      "  FutureWarning)\n",
      "/Users/wenze/anaconda3/envs/py37/lib/python3.7/site-packages/sklearn/ensemble/forest.py:245: FutureWarning: The default value of n_estimators will change from 10 in version 0.20 to 100 in 0.22.\n",
      "  \"10 in version 0.20 to 100 in 0.22.\", FutureWarning)\n",
      "/Users/wenze/anaconda3/envs/py37/lib/python3.7/site-packages/sklearn/metrics/classification.py:1437: UndefinedMetricWarning: Precision is ill-defined and being set to 0.0 in labels with no predicted samples.\n",
      "  'precision', 'predicted', average, warn_for)\n",
      "/Users/wenze/anaconda3/envs/py37/lib/python3.7/site-packages/sklearn/metrics/classification.py:1437: UndefinedMetricWarning: Precision is ill-defined and being set to 0.0 in labels with no predicted samples.\n",
      "  'precision', 'predicted', average, warn_for)\n",
      "/Users/wenze/anaconda3/envs/py37/lib/python3.7/site-packages/sklearn/metrics/classification.py:1437: UndefinedMetricWarning: Precision is ill-defined and being set to 0.0 in labels with no predicted samples.\n",
      "  'precision', 'predicted', average, warn_for)\n",
      "/Users/wenze/anaconda3/envs/py37/lib/python3.7/site-packages/sklearn/metrics/classification.py:1437: UndefinedMetricWarning: Precision is ill-defined and being set to 0.0 in labels with no predicted samples.\n",
      "  'precision', 'predicted', average, warn_for)\n"
     ]
    },
    {
     "data": {
      "text/html": [
       "<div>\n",
       "<style scoped>\n",
       "    .dataframe tbody tr th:only-of-type {\n",
       "        vertical-align: middle;\n",
       "    }\n",
       "\n",
       "    .dataframe tbody tr th {\n",
       "        vertical-align: top;\n",
       "    }\n",
       "\n",
       "    .dataframe thead th {\n",
       "        text-align: right;\n",
       "    }\n",
       "</style>\n",
       "<table border=\"1\" class=\"dataframe\">\n",
       "  <thead>\n",
       "    <tr style=\"text-align: right;\">\n",
       "      <th></th>\n",
       "      <th>Accuracy</th>\n",
       "      <th>Precision</th>\n",
       "      <th>Recall</th>\n",
       "      <th>F1</th>\n",
       "    </tr>\n",
       "  </thead>\n",
       "  <tbody>\n",
       "    <tr>\n",
       "      <th>GaussianNB</th>\n",
       "      <td>0.998835</td>\n",
       "      <td>0.997672</td>\n",
       "      <td>1.000000</td>\n",
       "      <td>0.999417</td>\n",
       "    </tr>\n",
       "    <tr>\n",
       "      <th>BernoulliNB</th>\n",
       "      <td>0.998835</td>\n",
       "      <td>0.997672</td>\n",
       "      <td>1.000000</td>\n",
       "      <td>0.999417</td>\n",
       "    </tr>\n",
       "    <tr>\n",
       "      <th>K Nearest</th>\n",
       "      <td>0.998835</td>\n",
       "      <td>0.997672</td>\n",
       "      <td>1.000000</td>\n",
       "      <td>0.999417</td>\n",
       "    </tr>\n",
       "    <tr>\n",
       "      <th>Logistic</th>\n",
       "      <td>0.998835</td>\n",
       "      <td>0.997672</td>\n",
       "      <td>1.000000</td>\n",
       "      <td>0.999417</td>\n",
       "    </tr>\n",
       "    <tr>\n",
       "      <th>Random Forest</th>\n",
       "      <td>0.998795</td>\n",
       "      <td>0.997672</td>\n",
       "      <td>0.998795</td>\n",
       "      <td>0.998233</td>\n",
       "    </tr>\n",
       "    <tr>\n",
       "      <th>Gradient Boost</th>\n",
       "      <td>0.998755</td>\n",
       "      <td>0.997672</td>\n",
       "      <td>0.998755</td>\n",
       "      <td>0.998213</td>\n",
       "    </tr>\n",
       "    <tr>\n",
       "      <th>Single Tree</th>\n",
       "      <td>0.998313</td>\n",
       "      <td>0.997975</td>\n",
       "      <td>0.998313</td>\n",
       "      <td>0.998138</td>\n",
       "    </tr>\n",
       "  </tbody>\n",
       "</table>\n",
       "</div>"
      ],
      "text/plain": [
       "                Accuracy  Precision    Recall        F1\n",
       "GaussianNB      0.998835   0.997672  1.000000  0.999417\n",
       "BernoulliNB     0.998835   0.997672  1.000000  0.999417\n",
       "K Nearest       0.998835   0.997672  1.000000  0.999417\n",
       "Logistic        0.998835   0.997672  1.000000  0.999417\n",
       "Random Forest   0.998795   0.997672  0.998795  0.998233\n",
       "Gradient Boost  0.998755   0.997672  0.998755  0.998213\n",
       "Single Tree     0.998313   0.997975  0.998313  0.998138"
      ]
     },
     "execution_count": 30,
     "metadata": {},
     "output_type": "execute_result"
    }
   ],
   "source": [
    "tDMassess(x_train,y_train,x_test,y_test,algorithms,names)"
   ]
  },
  {
   "cell_type": "code",
   "execution_count": null,
   "metadata": {},
   "outputs": [],
   "source": []
  },
  {
   "cell_type": "code",
   "execution_count": null,
   "metadata": {},
   "outputs": [],
   "source": []
  },
  {
   "cell_type": "code",
   "execution_count": null,
   "metadata": {},
   "outputs": [],
   "source": []
  },
  {
   "cell_type": "code",
   "execution_count": null,
   "metadata": {},
   "outputs": [],
   "source": []
  },
  {
   "cell_type": "code",
   "execution_count": null,
   "metadata": {},
   "outputs": [],
   "source": []
  },
  {
   "cell_type": "code",
   "execution_count": null,
   "metadata": {},
   "outputs": [],
   "source": []
  },
  {
   "cell_type": "code",
   "execution_count": null,
   "metadata": {},
   "outputs": [],
   "source": []
  },
  {
   "cell_type": "code",
   "execution_count": null,
   "metadata": {},
   "outputs": [],
   "source": []
  },
  {
   "cell_type": "code",
   "execution_count": null,
   "metadata": {},
   "outputs": [],
   "source": []
  },
  {
   "cell_type": "code",
   "execution_count": null,
   "metadata": {},
   "outputs": [],
   "source": []
  },
  {
   "cell_type": "code",
   "execution_count": null,
   "metadata": {},
   "outputs": [],
   "source": []
  },
  {
   "cell_type": "code",
   "execution_count": null,
   "metadata": {},
   "outputs": [],
   "source": []
  },
  {
   "cell_type": "code",
   "execution_count": null,
   "metadata": {},
   "outputs": [],
   "source": []
  },
  {
   "cell_type": "code",
   "execution_count": null,
   "metadata": {},
   "outputs": [],
   "source": []
  },
  {
   "cell_type": "code",
   "execution_count": null,
   "metadata": {},
   "outputs": [],
   "source": []
  },
  {
   "cell_type": "code",
   "execution_count": null,
   "metadata": {},
   "outputs": [],
   "source": []
  },
  {
   "cell_type": "code",
   "execution_count": null,
   "metadata": {},
   "outputs": [],
   "source": []
  },
  {
   "cell_type": "code",
   "execution_count": null,
   "metadata": {},
   "outputs": [],
   "source": []
  },
  {
   "cell_type": "code",
   "execution_count": null,
   "metadata": {},
   "outputs": [],
   "source": []
  },
  {
   "cell_type": "code",
   "execution_count": null,
   "metadata": {},
   "outputs": [],
   "source": []
  }
 ],
 "metadata": {
  "kernelspec": {
   "display_name": "Python 3",
   "language": "python",
   "name": "python3"
  },
  "language_info": {
   "codemirror_mode": {
    "name": "ipython",
    "version": 3
   },
   "file_extension": ".py",
   "mimetype": "text/x-python",
   "name": "python",
   "nbconvert_exporter": "python",
   "pygments_lexer": "ipython3",
   "version": "3.7.3"
  }
 },
 "nbformat": 4,
 "nbformat_minor": 2
}
